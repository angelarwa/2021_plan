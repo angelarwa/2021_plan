{
  "nbformat": 4,
  "nbformat_minor": 0,
  "metadata": {
    "colab": {
      "name": "LeetCode(Array)",
      "provenance": [],
      "collapsed_sections": [],
      "authorship_tag": "ABX9TyOGKE84yZGN7Iey0TJbsWO3",
      "include_colab_link": true
    },
    "kernelspec": {
      "name": "python3",
      "display_name": "Python 3"
    },
    "language_info": {
      "name": "python"
    }
  },
  "cells": [
    {
      "cell_type": "markdown",
      "metadata": {
        "id": "view-in-github",
        "colab_type": "text"
      },
      "source": [
        "<a href=\"https://colab.research.google.com/github/angelarwa/2021_plan/blob/angelarwa-patch-1/LeetCode(Array).ipynb\" target=\"_parent\"><img src=\"https://colab.research.google.com/assets/colab-badge.svg\" alt=\"Open In Colab\"/></a>"
      ]
    },
    {
      "cell_type": "markdown",
      "metadata": {
        "id": "RPr2nqLTZurn"
      },
      "source": [
        "#Duplicate Zeros\n",
        "\n"
      ]
    },
    {
      "cell_type": "code",
      "metadata": {
        "id": "njcX0q_VZncZ"
      },
      "source": [
        "class Solution(object):\n",
        "    def duplicateZeros(self, arr):\n",
        "        \"\"\"\n",
        "        :type arr: List[int]\n",
        "        :rtype: None Do not return anything, modify arr in-place instead.\n",
        "        \"\"\"\n",
        "        i=0\n",
        "        while i < len(arr)-1:\n",
        "            if arr[i]==0:\n",
        "                arr.pop()\n",
        "                arr.insert(i+1, 0)\n",
        "                i+=1\n",
        "            i+=1"
      ],
      "execution_count": null,
      "outputs": []
    },
    {
      "cell_type": "markdown",
      "metadata": {
        "id": "9gE2tX8yZsg3"
      },
      "source": [
        "#  Merge Sorted Array\n",
        "\n"
      ]
    },
    {
      "cell_type": "code",
      "metadata": {
        "id": "lNTow-LYZsLA"
      },
      "source": [
        ""
      ],
      "execution_count": null,
      "outputs": []
    }
  ]
}